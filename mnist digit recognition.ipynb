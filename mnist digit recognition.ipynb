{
 "cells": [
  {
   "cell_type": "code",
   "execution_count": 1,
   "metadata": {},
   "outputs": [],
   "source": [
    "from sklearn.datasets import fetch_openml\n",
    "\n",
    "\n"
   ]
  },
  {
   "cell_type": "code",
   "execution_count": 2,
   "metadata": {},
   "outputs": [],
   "source": [
    "mnist=fetch_openml('mnist_784')"
   ]
  },
  {
   "cell_type": "code",
   "execution_count": 3,
   "metadata": {},
   "outputs": [],
   "source": [
    "x,y=mnist['data'],mnist['target']"
   ]
  },
  {
   "cell_type": "code",
   "execution_count": 4,
   "metadata": {},
   "outputs": [
    {
     "data": {
      "text/plain": [
       "array([  0.,   0.,   0.,   0.,   0.,   0.,   0.,   0.,   0.,   0.,   0.,\n",
       "         0.,   0.,   0.,   0.,   0.,   0.,   0.,   0.,   0.,   0.,   0.,\n",
       "         0.,   0.,   0.,   0.,   0.,   0.,   0.,   0.,   0.,   0.,   0.,\n",
       "         0.,   0.,   0.,   0.,   0.,   0.,   0.,   0.,   0.,   0.,   0.,\n",
       "         0.,   0.,   0.,   0.,   0.,   0.,   0.,   0.,   0.,   0.,   0.,\n",
       "         0.,   0.,   0.,   0.,   0.,   0.,   0.,   0.,   0.,   0.,   0.,\n",
       "         0.,   0.,   0.,   0.,   0.,   0.,   0.,   0.,   0.,   0.,   0.,\n",
       "         0.,   0.,   0.,   0.,   0.,   0.,   0.,   0.,   0.,   0.,   0.,\n",
       "         0.,   0.,   0.,   0.,   0.,   0.,   0.,   0.,   0.,   0.,   0.,\n",
       "         0.,   0.,   0.,   0.,   0.,   0.,   0.,   0.,   0.,   0.,   0.,\n",
       "         0.,   0.,   0.,   0.,   0.,   0.,   0.,   0.,   0.,   0.,   0.,\n",
       "         0.,   0.,   0.,   0.,   0.,   0.,   0.,   0.,   0.,   0.,   0.,\n",
       "         0.,   0.,   0.,   0.,   0.,   0.,   0.,   0.,   0.,   0.,   0.,\n",
       "         0.,   0.,   0.,   0.,   0.,   0.,   0.,   0.,   0.,   3.,  18.,\n",
       "        18.,  18., 126., 136., 175.,  26., 166., 255., 247., 127.,   0.,\n",
       "         0.,   0.,   0.,   0.,   0.,   0.,   0.,   0.,   0.,   0.,   0.,\n",
       "        30.,  36.,  94., 154., 170., 253., 253., 253., 253., 253., 225.,\n",
       "       172., 253., 242., 195.,  64.,   0.,   0.,   0.,   0.,   0.,   0.,\n",
       "         0.,   0.,   0.,   0.,   0.,  49., 238., 253., 253., 253., 253.,\n",
       "       253., 253., 253., 253., 251.,  93.,  82.,  82.,  56.,  39.,   0.,\n",
       "         0.,   0.,   0.,   0.,   0.,   0.,   0.,   0.,   0.,   0.,   0.,\n",
       "        18., 219., 253., 253., 253., 253., 253., 198., 182., 247., 241.,\n",
       "         0.,   0.,   0.,   0.,   0.,   0.,   0.,   0.,   0.,   0.,   0.,\n",
       "         0.,   0.,   0.,   0.,   0.,   0.,   0.,  80., 156., 107., 253.,\n",
       "       253., 205.,  11.,   0.,  43., 154.,   0.,   0.,   0.,   0.,   0.,\n",
       "         0.,   0.,   0.,   0.,   0.,   0.,   0.,   0.,   0.,   0.,   0.,\n",
       "         0.,   0.,   0.,  14.,   1., 154., 253.,  90.,   0.,   0.,   0.,\n",
       "         0.,   0.,   0.,   0.,   0.,   0.,   0.,   0.,   0.,   0.,   0.,\n",
       "         0.,   0.,   0.,   0.,   0.,   0.,   0.,   0.,   0.,   0.,   0.,\n",
       "       139., 253., 190.,   2.,   0.,   0.,   0.,   0.,   0.,   0.,   0.,\n",
       "         0.,   0.,   0.,   0.,   0.,   0.,   0.,   0.,   0.,   0.,   0.,\n",
       "         0.,   0.,   0.,   0.,   0.,   0.,  11., 190., 253.,  70.,   0.,\n",
       "         0.,   0.,   0.,   0.,   0.,   0.,   0.,   0.,   0.,   0.,   0.,\n",
       "         0.,   0.,   0.,   0.,   0.,   0.,   0.,   0.,   0.,   0.,   0.,\n",
       "         0.,   0.,  35., 241., 225., 160., 108.,   1.,   0.,   0.,   0.,\n",
       "         0.,   0.,   0.,   0.,   0.,   0.,   0.,   0.,   0.,   0.,   0.,\n",
       "         0.,   0.,   0.,   0.,   0.,   0.,   0.,   0.,   0.,  81., 240.,\n",
       "       253., 253., 119.,  25.,   0.,   0.,   0.,   0.,   0.,   0.,   0.,\n",
       "         0.,   0.,   0.,   0.,   0.,   0.,   0.,   0.,   0.,   0.,   0.,\n",
       "         0.,   0.,   0.,   0.,   0.,  45., 186., 253., 253., 150.,  27.,\n",
       "         0.,   0.,   0.,   0.,   0.,   0.,   0.,   0.,   0.,   0.,   0.,\n",
       "         0.,   0.,   0.,   0.,   0.,   0.,   0.,   0.,   0.,   0.,   0.,\n",
       "         0.,  16.,  93., 252., 253., 187.,   0.,   0.,   0.,   0.,   0.,\n",
       "         0.,   0.,   0.,   0.,   0.,   0.,   0.,   0.,   0.,   0.,   0.,\n",
       "         0.,   0.,   0.,   0.,   0.,   0.,   0.,   0.,   0., 249., 253.,\n",
       "       249.,  64.,   0.,   0.,   0.,   0.,   0.,   0.,   0.,   0.,   0.,\n",
       "         0.,   0.,   0.,   0.,   0.,   0.,   0.,   0.,   0.,   0.,   0.,\n",
       "         0.,  46., 130., 183., 253., 253., 207.,   2.,   0.,   0.,   0.,\n",
       "         0.,   0.,   0.,   0.,   0.,   0.,   0.,   0.,   0.,   0.,   0.,\n",
       "         0.,   0.,   0.,   0.,   0.,  39., 148., 229., 253., 253., 253.,\n",
       "       250., 182.,   0.,   0.,   0.,   0.,   0.,   0.,   0.,   0.,   0.,\n",
       "         0.,   0.,   0.,   0.,   0.,   0.,   0.,   0.,   0.,  24., 114.,\n",
       "       221., 253., 253., 253., 253., 201.,  78.,   0.,   0.,   0.,   0.,\n",
       "         0.,   0.,   0.,   0.,   0.,   0.,   0.,   0.,   0.,   0.,   0.,\n",
       "         0.,   0.,  23.,  66., 213., 253., 253., 253., 253., 198.,  81.,\n",
       "         2.,   0.,   0.,   0.,   0.,   0.,   0.,   0.,   0.,   0.,   0.,\n",
       "         0.,   0.,   0.,   0.,   0.,   0.,  18., 171., 219., 253., 253.,\n",
       "       253., 253., 195.,  80.,   9.,   0.,   0.,   0.,   0.,   0.,   0.,\n",
       "         0.,   0.,   0.,   0.,   0.,   0.,   0.,   0.,   0.,   0.,  55.,\n",
       "       172., 226., 253., 253., 253., 253., 244., 133.,  11.,   0.,   0.,\n",
       "         0.,   0.,   0.,   0.,   0.,   0.,   0.,   0.,   0.,   0.,   0.,\n",
       "         0.,   0.,   0.,   0.,   0., 136., 253., 253., 253., 212., 135.,\n",
       "       132.,  16.,   0.,   0.,   0.,   0.,   0.,   0.,   0.,   0.,   0.,\n",
       "         0.,   0.,   0.,   0.,   0.,   0.,   0.,   0.,   0.,   0.,   0.,\n",
       "         0.,   0.,   0.,   0.,   0.,   0.,   0.,   0.,   0.,   0.,   0.,\n",
       "         0.,   0.,   0.,   0.,   0.,   0.,   0.,   0.,   0.,   0.,   0.,\n",
       "         0.,   0.,   0.,   0.,   0.,   0.,   0.,   0.,   0.,   0.,   0.,\n",
       "         0.,   0.,   0.,   0.,   0.,   0.,   0.,   0.,   0.,   0.,   0.,\n",
       "         0.,   0.,   0.,   0.,   0.,   0.,   0.,   0.,   0.,   0.,   0.,\n",
       "         0.,   0.,   0.,   0.,   0.,   0.,   0.,   0.,   0.,   0.,   0.,\n",
       "         0.,   0.,   0.,   0.,   0.,   0.,   0.,   0.,   0.,   0.,   0.,\n",
       "         0.,   0.,   0.])"
      ]
     },
     "execution_count": 4,
     "metadata": {},
     "output_type": "execute_result"
    }
   ],
   "source": [
    "x[0]"
   ]
  },
  {
   "cell_type": "code",
   "execution_count": 5,
   "metadata": {},
   "outputs": [
    {
     "data": {
      "text/plain": [
       "(70000, 784)"
      ]
     },
     "execution_count": 5,
     "metadata": {},
     "output_type": "execute_result"
    }
   ],
   "source": [
    "x.shape"
   ]
  },
  {
   "cell_type": "code",
   "execution_count": 6,
   "metadata": {},
   "outputs": [
    {
     "data": {
      "text/plain": [
       "(70000,)"
      ]
     },
     "execution_count": 6,
     "metadata": {},
     "output_type": "execute_result"
    }
   ],
   "source": [
    "y.shape"
   ]
  },
  {
   "cell_type": "code",
   "execution_count": 7,
   "metadata": {},
   "outputs": [],
   "source": [
    "%matplotlib inline"
   ]
  },
  {
   "cell_type": "code",
   "execution_count": 8,
   "metadata": {},
   "outputs": [],
   "source": [
    "import matplotlib\n",
    "import matplotlib.pyplot as plt"
   ]
  },
  {
   "cell_type": "code",
   "execution_count": 9,
   "metadata": {},
   "outputs": [],
   "source": [
    "some_digit=x[36]\n",
    "some_digit_image=some_digit.reshape(28,28)\n"
   ]
  },
  {
   "cell_type": "code",
   "execution_count": 10,
   "metadata": {},
   "outputs": [
    {
     "data": {
      "text/plain": [
       "(-0.5, 27.5, 27.5, -0.5)"
      ]
     },
     "execution_count": 10,
     "metadata": {},
     "output_type": "execute_result"
    },
    {
     "data": {
      "image/png": "[encoded data removed]",
      "text/plain": [
       "<Figure size 432x288 with 1 Axes>"
      ]
     },
     "metadata": {
      "needs_background": "light"
     },
     "output_type": "display_data"
    }
   ],
   "source": [
    "plt.imshow(some_digit_image,cmap=matplotlib.cm.binary,interpolation=\"nearest\")\n",
    "plt.axis(\"off\")"
   ]
  },
  {
   "cell_type": "code",
   "execution_count": 11,
   "metadata": {},
   "outputs": [
    {
     "data": {
      "text/plain": [
       "'6'"
      ]
     },
     "execution_count": 11,
     "metadata": {},
     "output_type": "execute_result"
    }
   ],
   "source": [
    "y[360]"
   ]
  },
  {
   "cell_type": "code",
   "execution_count": 24,
   "metadata": {},
   "outputs": [],
   "source": [
    "x_train,x_test=x[:600],x[600:700]"
   ]
  },
  {
   "cell_type": "code",
   "execution_count": 25,
   "metadata": {},
   "outputs": [],
   "source": [
    "y_train,y_test=y[:600],y[600:700]"
   ]
  },
  {
   "cell_type": "code",
   "execution_count": 26,
   "metadata": {},
   "outputs": [
    {
     "ename": "IndexError",
     "evalue": "index 57669 is out of bounds for axis 0 with size 600",
     "output_type": "error",
     "traceback": [
      "\u001b[1;31m---------------------------------------------------------------------------\u001b[0m",
      "\u001b[1;31mIndexError\u001b[0m                                Traceback (most recent call last)",
      "\u001b[1;32m<ipython-input-26-a8f0707bc8ae>\u001b[0m in \u001b[0;36m<module>\u001b[1;34m\u001b[0m\n\u001b[0;32m      1\u001b[0m \u001b[1;32mimport\u001b[0m \u001b[0mnumpy\u001b[0m \u001b[1;32mas\u001b[0m \u001b[0mnp\u001b[0m\u001b[1;33m\u001b[0m\u001b[1;33m\u001b[0m\u001b[0m\n\u001b[0;32m      2\u001b[0m \u001b[0mshuffle_index\u001b[0m\u001b[1;33m=\u001b[0m\u001b[0mnp\u001b[0m\u001b[1;33m.\u001b[0m\u001b[0mrandom\u001b[0m\u001b[1;33m.\u001b[0m\u001b[0mpermutation\u001b[0m\u001b[1;33m(\u001b[0m\u001b[1;36m60000\u001b[0m\u001b[1;33m)\u001b[0m\u001b[1;33m\u001b[0m\u001b[1;33m\u001b[0m\u001b[0m\n\u001b[1;32m----> 3\u001b[1;33m \u001b[0mx_train\u001b[0m\u001b[1;33m,\u001b[0m\u001b[0my_train\u001b[0m\u001b[1;33m=\u001b[0m\u001b[0mx_train\u001b[0m\u001b[1;33m[\u001b[0m\u001b[0mshuffle_index\u001b[0m\u001b[1;33m]\u001b[0m\u001b[1;33m,\u001b[0m\u001b[0my_train\u001b[0m\u001b[1;33m[\u001b[0m\u001b[0mshuffle_index\u001b[0m\u001b[1;33m]\u001b[0m\u001b[1;33m\u001b[0m\u001b[1;33m\u001b[0m\u001b[0m\n\u001b[0m",
      "\u001b[1;31mIndexError\u001b[0m: index 57669 is out of bounds for axis 0 with size 600"
     ]
    }
   ],
   "source": [
    "import numpy as np\n",
    "shuffle_index=np.random.permutation(60000)\n",
    "x_train,y_train=x_train[shuffle_index],y_train[shuffle_index]\n"
   ]
  },
  {
   "cell_type": "code",
   "execution_count": 27,
   "metadata": {},
   "outputs": [],
   "source": [
    "y_train=y_train.astype(np.int8)\n",
    "y_test=y_test.astype(np.int8)\n",
    "\n",
    "y_train_9=(y_train==9)\n",
    "y_test_9=(y_test==9)\n"
   ]
  },
  {
   "cell_type": "code",
   "execution_count": 28,
   "metadata": {},
   "outputs": [
    {
     "data": {
      "text/plain": [
       "array([5, 0, 4, 1, 9, 2, 1, 3, 1, 4, 3, 5, 3, 6, 1, 7, 2, 8, 6, 9, 4, 0,\n",
       "       9, 1, 1, 2, 4, 3, 2, 7, 3, 8, 6, 9, 0, 5, 6, 0, 7, 6, 1, 8, 7, 9,\n",
       "       3, 9, 8, 5, 9, 3, 3, 0, 7, 4, 9, 8, 0, 9, 4, 1, 4, 4, 6, 0, 4, 5,\n",
       "       6, 1, 0, 0, 1, 7, 1, 6, 3, 0, 2, 1, 1, 7, 9, 0, 2, 6, 7, 8, 3, 9,\n",
       "       0, 4, 6, 7, 4, 6, 8, 0, 7, 8, 3, 1, 5, 7, 1, 7, 1, 1, 6, 3, 0, 2,\n",
       "       9, 3, 1, 1, 0, 4, 9, 2, 0, 0, 2, 0, 2, 7, 1, 8, 6, 4, 1, 6, 3, 4,\n",
       "       5, 9, 1, 3, 3, 8, 5, 4, 7, 7, 4, 2, 8, 5, 8, 6, 7, 3, 4, 6, 1, 9,\n",
       "       9, 6, 0, 3, 7, 2, 8, 2, 9, 4, 4, 6, 4, 9, 7, 0, 9, 2, 9, 5, 1, 5,\n",
       "       9, 1, 2, 3, 2, 3, 5, 9, 1, 7, 6, 2, 8, 2, 2, 5, 0, 7, 4, 9, 7, 8,\n",
       "       3, 2, 1, 1, 8, 3, 6, 1, 0, 3, 1, 0, 0, 1, 7, 2, 7, 3, 0, 4, 6, 5,\n",
       "       2, 6, 4, 7, 1, 8, 9, 9, 3, 0, 7, 1, 0, 2, 0, 3, 5, 4, 6, 5, 8, 6,\n",
       "       3, 7, 5, 8, 0, 9, 1, 0, 3, 1, 2, 2, 3, 3, 6, 4, 7, 5, 0, 6, 2, 7,\n",
       "       9, 8, 5, 9, 2, 1, 1, 4, 4, 5, 6, 4, 1, 2, 5, 3, 9, 3, 9, 0, 5, 9,\n",
       "       6, 5, 7, 4, 1, 3, 4, 0, 4, 8, 0, 4, 3, 6, 8, 7, 6, 0, 9, 7, 5, 7,\n",
       "       2, 1, 1, 6, 8, 9, 4, 1, 5, 2, 2, 9, 0, 3, 9, 6, 7, 2, 0, 3, 5, 4,\n",
       "       3, 6, 5, 8, 9, 5, 4, 7, 4, 2, 7, 3, 4, 8, 9, 1, 9, 2, 8, 7, 9, 1,\n",
       "       8, 7, 4, 1, 3, 1, 1, 0, 2, 3, 9, 4, 9, 2, 1, 6, 8, 4, 7, 7, 4, 4,\n",
       "       9, 2, 5, 7, 2, 4, 4, 2, 1, 9, 7, 2, 8, 7, 6, 9, 2, 2, 3, 8, 1, 6,\n",
       "       5, 1, 1, 0, 2, 6, 4, 5, 8, 3, 1, 5, 1, 9, 2, 7, 4, 4, 4, 8, 1, 5,\n",
       "       8, 9, 5, 6, 7, 9, 9, 3, 7, 0, 9, 0, 6, 6, 2, 3, 9, 0, 7, 5, 4, 8,\n",
       "       0, 9, 4, 1, 2, 8, 7, 1, 2, 6, 1, 0, 3, 0, 1, 1, 8, 2, 0, 3, 9, 4,\n",
       "       0, 5, 0, 6, 1, 7, 7, 8, 1, 9, 2, 0, 5, 1, 2, 2, 7, 3, 5, 4, 9, 7,\n",
       "       1, 8, 3, 9, 6, 0, 3, 1, 1, 2, 6, 3, 5, 7, 6, 8, 3, 9, 5, 8, 5, 7,\n",
       "       6, 1, 1, 3, 1, 7, 5, 5, 5, 2, 5, 8, 7, 0, 9, 7, 7, 5, 0, 9, 0, 0,\n",
       "       8, 9, 2, 4, 8, 1, 6, 1, 6, 5, 1, 8, 3, 4, 0, 5, 5, 8, 3, 6, 2, 3,\n",
       "       9, 2, 1, 1, 5, 2, 1, 3, 2, 8, 7, 3, 7, 2, 4, 6, 9, 7, 2, 4, 2, 8,\n",
       "       1, 1, 3, 8, 4, 0, 6, 5, 9, 3, 0, 9, 2, 4, 7, 1, 2, 9, 4, 2, 6, 1,\n",
       "       8, 9, 0, 6, 6, 7], dtype=int8)"
      ]
     },
     "execution_count": 28,
     "metadata": {},
     "output_type": "execute_result"
    }
   ],
   "source": [
    "y_train"
   ]
  },
  {
   "cell_type": "code",
   "execution_count": 29,
   "metadata": {},
   "outputs": [],
   "source": [
    "from sklearn.linear_model import LogisticRegression"
   ]
  },
  {
   "cell_type": "code",
   "execution_count": 30,
   "metadata": {},
   "outputs": [],
   "source": [
    "clf=LogisticRegression(tol=0.1,solver='lbfgs')"
   ]
  },
  {
   "cell_type": "code",
   "execution_count": 31,
   "metadata": {},
   "outputs": [
    {
     "data": {
      "text/plain": [
       "LogisticRegression(tol=0.1)"
      ]
     },
     "execution_count": 31,
     "metadata": {},
     "output_type": "execute_result"
    }
   ],
   "source": [
    "clf.fit(x_train,y_train_9)"
   ]
  },
  {
   "cell_type": "code",
   "execution_count": 32,
   "metadata": {},
   "outputs": [
    {
     "data": {
      "text/plain": [
       "array([False])"
      ]
     },
     "execution_count": 32,
     "metadata": {},
     "output_type": "execute_result"
    }
   ],
   "source": [
    "clf.predict([some_digit])"
   ]
  },
  {
   "cell_type": "code",
   "execution_count": 33,
   "metadata": {},
   "outputs": [],
   "source": [
    "from sklearn.model_selection import cross_val_score\n",
    "a=cross_val_score(clf,x_train,y_train_9,cv=3,scoring=\"accuracy\")"
   ]
  },
  {
   "cell_type": "code",
   "execution_count": 34,
   "metadata": {},
   "outputs": [
    {
     "data": {
      "text/plain": [
       "0.94"
      ]
     },
     "execution_count": 34,
     "metadata": {},
     "output_type": "execute_result"
    }
   ],
   "source": [
    "a.mean()"
   ]
  },
  {
   "cell_type": "code",
   "execution_count": 35,
   "metadata": {},
   "outputs": [],
   "source": [
    "from sklearn.model_selection import cross_val_predict\n",
    "y_train_pred=cross_val_predict(clf,x_train,y_train_9,cv=3)\n"
   ]
  },
  {
   "cell_type": "code",
   "execution_count": 36,
   "metadata": {},
   "outputs": [
    {
     "data": {
      "text/plain": [
       "array([False, False, False, False,  True, False, False, False, False,\n",
       "       False, False, False, False, False, False,  True, False, False,\n",
       "       False,  True,  True, False,  True, False, False, False, False,\n",
       "       False, False, False, False, False, False, False, False, False,\n",
       "       False, False, False, False, False, False, False,  True, False,\n",
       "        True, False, False, False, False, False, False, False, False,\n",
       "       False, False, False,  True,  True, False, False, False, False,\n",
       "       False, False, False, False, False, False, False, False, False,\n",
       "       False, False, False, False, False, False, False, False, False,\n",
       "       False, False, False, False, False, False,  True, False, False,\n",
       "       False, False,  True, False, False, False, False, False, False,\n",
       "       False,  True, False, False, False, False, False, False, False,\n",
       "       False, False,  True, False, False, False, False, False,  True,\n",
       "       False, False, False, False, False, False, False, False, False,\n",
       "       False, False, False, False, False, False, False,  True, False,\n",
       "       False, False, False, False, False, False, False, False, False,\n",
       "       False, False, False, False,  True, False, False, False, False,\n",
       "        True, False, False, False, False, False, False, False, False,\n",
       "        True, False, False, False, False,  True, False, False,  True,\n",
       "       False, False, False, False, False,  True, False, False, False,\n",
       "       False, False, False,  True, False, False, False, False, False,\n",
       "       False, False, False, False, False, False,  True,  True, False,\n",
       "       False, False, False, False, False, False, False, False, False,\n",
       "       False, False, False, False, False, False, False, False, False,\n",
       "       False, False, False, False, False, False, False, False, False,\n",
       "       False,  True,  True, False, False, False, False, False, False,\n",
       "       False, False, False, False, False, False, False, False, False,\n",
       "       False, False, False, False, False, False, False, False, False,\n",
       "       False, False, False, False, False, False, False, False, False,\n",
       "       False, False, False, False, False, False, False, False, False,\n",
       "       False, False, False, False, False, False, False, False, False,\n",
       "       False,  True, False, False, False, False, False, False, False,\n",
       "       False, False, False, False, False, False, False, False, False,\n",
       "       False, False, False, False, False, False, False,  True, False,\n",
       "       False, False, False, False, False, False, False, False, False,\n",
       "       False, False, False, False,  True, False, False, False, False,\n",
       "       False, False, False, False, False, False, False, False, False,\n",
       "       False, False, False, False, False, False, False, False, False,\n",
       "        True, False,  True, False, False, False, False, False,  True,\n",
       "       False, False, False,  True, False, False, False, False, False,\n",
       "       False, False,  True, False, False, False, False, False, False,\n",
       "       False, False, False, False, False,  True, False, False, False,\n",
       "       False, False, False, False, False,  True, False, False, False,\n",
       "       False, False,  True, False, False, False, False, False, False,\n",
       "       False, False, False, False, False, False, False, False, False,\n",
       "       False, False, False, False,  True, False, False, False, False,\n",
       "       False, False, False, False, False,  True,  True, False, False,\n",
       "        True,  True, False, False, False,  True, False, False, False,\n",
       "       False, False, False, False, False, False, False, False, False,\n",
       "        True, False, False, False, False, False, False, False, False,\n",
       "       False, False, False, False, False, False, False, False, False,\n",
       "        True,  True, False, False, False, False, False, False, False,\n",
       "       False, False, False,  True, False, False, False, False, False,\n",
       "       False, False,  True, False, False,  True, False, False, False,\n",
       "       False,  True, False, False, False, False, False, False, False,\n",
       "        True, False, False, False, False, False, False, False, False,\n",
       "       False, False, False, False, False, False, False, False, False,\n",
       "       False, False, False, False, False, False, False,  True, False,\n",
       "       False, False, False,  True, False, False, False, False, False,\n",
       "       False, False, False, False, False, False, False, False, False,\n",
       "       False, False, False, False, False, False, False, False, False,\n",
       "       False,  True, False, False, False, False, False, False, False,\n",
       "       False, False, False, False, False, False, False, False,  True,\n",
       "       False, False, False, False, False, False, False, False, False,\n",
       "       False, False, False, False,  True,  True, False,  True, False,\n",
       "        True, False, False, False, False, False, False, False, False,\n",
       "       False, False, False, False, False, False])"
      ]
     },
     "execution_count": 36,
     "metadata": {},
     "output_type": "execute_result"
    }
   ],
   "source": [
    "y_train_pred"
   ]
  },
  {
   "cell_type": "code",
   "execution_count": 38,
   "metadata": {},
   "outputs": [],
   "source": [
    "from sklearn.metrics import confusion_matrix"
   ]
  },
  {
   "cell_type": "code",
   "execution_count": 39,
   "metadata": {},
   "outputs": [
    {
     "data": {
      "text/plain": [
       "array([[520,  15],\n",
       "       [ 21,  44]], dtype=int64)"
      ]
     },
     "execution_count": 39,
     "metadata": {},
     "output_type": "execute_result"
    }
   ],
   "source": [
    "confusion_matrix(y_train_9,y_train_pred)"
   ]
  },
  {
   "cell_type": "code",
   "execution_count": 40,
   "metadata": {},
   "outputs": [
    {
     "data": {
      "text/plain": [
       "array([[535,   0],\n",
       "       [  0,  65]], dtype=int64)"
      ]
     },
     "execution_count": 40,
     "metadata": {},
     "output_type": "execute_result"
    }
   ],
   "source": [
    "confusion_matrix(y_train_9,y_train_9)"
   ]
  },
  {
   "cell_type": "code",
   "execution_count": 41,
   "metadata": {},
   "outputs": [],
   "source": [
    "from sklearn.metrics import precision_score,recall_score"
   ]
  },
  {
   "cell_type": "code",
   "execution_count": 42,
   "metadata": {},
   "outputs": [
    {
     "data": {
      "text/plain": [
       "0.7457627118644068"
      ]
     },
     "execution_count": 42,
     "metadata": {},
     "output_type": "execute_result"
    }
   ],
   "source": [
    "precision_score(y_train_9,y_train_pred)"
   ]
  },
  {
   "cell_type": "code",
   "execution_count": 43,
   "metadata": {},
   "outputs": [
    {
     "data": {
      "text/plain": [
       "0.676923076923077"
      ]
     },
     "execution_count": 43,
     "metadata": {},
     "output_type": "execute_result"
    }
   ],
   "source": [
    "recall_score(y_train_9,y_train_pred)"
   ]
  },
  {
   "cell_type": "code",
   "execution_count": 44,
   "metadata": {},
   "outputs": [],
   "source": [
    "from sklearn.metrics import precision_score,recall_score,f1_score"
   ]
  },
  {
   "cell_type": "code",
   "execution_count": 45,
   "metadata": {},
   "outputs": [
    {
     "data": {
      "text/plain": [
       "0.7096774193548386"
      ]
     },
     "execution_count": 45,
     "metadata": {},
     "output_type": "execute_result"
    }
   ],
   "source": [
    "f1_score(y_train_9,y_train_pred)"
   ]
  },
  {
   "cell_type": "code",
   "execution_count": 46,
   "metadata": {},
   "outputs": [],
   "source": [
    "from sklearn.metrics import precision_recall_curve"
   ]
  },
  {
   "cell_type": "code",
   "execution_count": 50,
   "metadata": {},
   "outputs": [],
   "source": [
    "y_scores=cross_val_predict(clf,x_train,y_train_9,cv=3,method=\"decision_function\")"
   ]
  },
  {
   "cell_type": "code",
   "execution_count": 54,
   "metadata": {},
   "outputs": [
    {
     "data": {
      "text/plain": [
       "array([ -38.3920655 ,  -58.4918868 ,  -18.08413569,  -35.15650292,\n",
       "          6.31734   ,  -15.5291011 ,  -38.45113699,  -24.95218725,\n",
       "        -32.31053742,  -29.3862346 ,  -25.64930006,  -47.67153116,\n",
       "        -41.77004731,  -44.89935823,  -39.10608566,    0.3682499 ,\n",
       "        -21.65642874,  -13.7587827 ,  -20.67010519,   10.50020129,\n",
       "          6.78461953,  -76.29506805,   10.74432654,  -29.58222362,\n",
       "        -15.07952097,  -78.70866719,   -5.25359228,  -62.49976859,\n",
       "        -75.0804273 ,   -8.15891519,  -34.12098154,  -27.40209082,\n",
       "        -25.9630954 ,   -1.77031557,  -46.46916585,  -26.14946215,\n",
       "        -28.56367676,  -54.09841926,  -24.91850234,  -34.5184749 ,\n",
       "        -20.98743216,  -32.84491902,  -10.64372227,    1.95877578,\n",
       "        -30.49041445,   11.16806316,   -9.39718385,  -24.00527014,\n",
       "        -32.47249747,  -46.55778468,  -41.57171653,  -72.39426809,\n",
       "        -20.62396256,   -8.61753412,   -1.74005754,  -27.52517995,\n",
       "        -65.15779723,   20.1015599 ,    6.5516159 ,  -29.82591377,\n",
       "        -54.58947193,  -14.24813483,  -34.82698409,  -49.19414048,\n",
       "        -63.52967471,  -35.46589377,  -25.17145913,  -27.79213018,\n",
       "        -52.07576407,  -55.47520836,  -65.26541389,   -4.7103536 ,\n",
       "        -26.56986209,  -28.63791537,  -42.00617947,  -50.24310573,\n",
       "        -46.84631507,  -17.97249604,  -13.84362084,   -5.39733829,\n",
       "        -72.82470076,  -57.49938479,  -85.68719688,  -41.01627849,\n",
       "         -7.98150549,  -34.68766345,  -26.33666887,    7.97716836,\n",
       "        -65.60013214,  -32.53298297,  -55.08524612,   -1.18683554,\n",
       "          4.39584532,  -42.73542321,  -36.5477477 ,  -54.10435328,\n",
       "         -2.93350794,  -26.67897785,  -30.24568872,   -7.98322063,\n",
       "         11.673796  ,  -16.6437488 ,  -30.95800554,   -4.11112187,\n",
       "        -34.2782407 ,  -22.41857972,  -38.8654161 ,  -39.8355743 ,\n",
       "        -65.07491133,  -47.02892997,   24.83523026,  -31.29208091,\n",
       "        -21.1825674 ,  -19.12585687,  -53.03829719,   -4.54752204,\n",
       "         17.3792025 ,  -73.93568347,  -78.86808108,  -81.79107277,\n",
       "        -78.74516846, -109.09017419,  -36.13713123,   -7.31601656,\n",
       "        -11.60467583,  -39.10176164,  -42.57271829,  -29.89665616,\n",
       "        -35.16662919,  -31.25365009,  -38.73868141,  -17.7041312 ,\n",
       "        -30.55995951,    8.53136978,  -37.2152701 ,  -47.32477623,\n",
       "        -21.44281283,  -29.51095435,  -62.20940246,  -21.75427523,\n",
       "         -2.43086646,  -13.74331461,  -15.28759513,  -15.15347952,\n",
       "        -32.46862387,  -29.57754789,  -54.24003815,  -24.35784333,\n",
       "          0.91414044,  -48.10001179,  -28.50810173,  -47.81192152,\n",
       "        -30.13040867,   18.60184507,  -10.11272492,  -30.26282507,\n",
       "        -41.36324516,  -32.48175893,   -7.90418825,  -32.27058363,\n",
       "        -40.41624034,  -64.76413743,   13.04846786,  -16.92716612,\n",
       "         -6.33943864,  -26.61252719,  -14.8065732 ,   10.09557768,\n",
       "        -49.04839306,  -43.55037305,   19.35551968,  -39.0176567 ,\n",
       "        -16.17575424,  -38.53175284,  -17.47707701,  -54.39899251,\n",
       "          3.71992969,  -22.98050509,  -50.01521024,  -32.99773546,\n",
       "        -25.77912635,  -25.98197119,  -65.91612448,    5.64088157,\n",
       "        -44.53301685,  -15.61854653,  -32.17867558,  -86.6072347 ,\n",
       "         -8.32148098,  -51.96955548,  -53.84513117,  -32.67807145,\n",
       "        -59.54553054,  -15.32818626,  -10.09968742,   21.41669984,\n",
       "         15.65256918,  -24.93238895,  -47.10930926,  -23.33929729,\n",
       "        -44.70516097,  -29.94585222,  -13.90336324,  -39.24750434,\n",
       "        -32.17657627,  -30.39168791,  -74.10709203,  -29.19939268,\n",
       "        -26.10776768,  -70.99242385,  -33.47079785,  -22.93153988,\n",
       "         -7.98445891,  -66.43335464,  -23.41903985,  -62.41040064,\n",
       "        -16.88121273,   -1.21248352,  -19.81589127,  -31.67241309,\n",
       "        -66.47991822,  -69.40070919,  -29.96994087,  -24.2792578 ,\n",
       "        -31.1809661 ,  -53.59621676,    9.69308335,    1.56567496,\n",
       "         -8.78296894,  -56.57336655,   -2.47460429,  -24.7858581 ,\n",
       "        -25.44633597,  -61.48759827,  -75.96142678,  -55.54611015,\n",
       "        -67.71664644,  -25.25738149,  -53.38787995,  -30.26117748,\n",
       "        -14.14379519,  -90.56458791,  -68.65058038,  -22.5548438 ,\n",
       "        -43.73634475,  -47.15027444,  -72.62827675,   -3.77889768,\n",
       "        -14.38919432,  -40.5034164 ,  -37.59938589,  -21.48863133,\n",
       "        -59.49169923, -102.52398189,  -25.70861331,  -47.9103344 ,\n",
       "        -10.5398715 ,  -22.95882548,  -11.46826705,  -26.74730226,\n",
       "        -32.34205102,  -59.60098332,  -38.57543644,  -44.18608269,\n",
       "         -7.89034965,  -41.62713927,  -45.71823424,   -6.36622973,\n",
       "        -34.70607432,  -17.74054792,   -9.70818482,   -6.43502411,\n",
       "        -17.58013726,  -28.20514349,  -18.86778384,  -34.5898174 ,\n",
       "        -20.07854893,  -73.09708344,  -50.33662677,  -46.71727276,\n",
       "         19.99438966,  -53.37194504,  -11.38108181, -105.01811115,\n",
       "        -53.27757537,   -6.99199049,  -57.7611789 ,  -20.54399367,\n",
       "         -0.58436083,   -1.5605532 ,  -23.24249195,  -48.68153385,\n",
       "         -6.64669629, -118.29911023,  -38.99780553,  -41.58739332,\n",
       "        -81.74682035,  -25.73433209,  -41.70014189,  -59.76319197,\n",
       "        -34.30927748,  -19.60987264,  -36.06547221,  -85.52559473,\n",
       "          7.25048271,  -15.09054555,  -32.62100005,   -1.11932761,\n",
       "        -69.38754596,  -23.21683217,  -20.85641333,  -72.5932003 ,\n",
       "        -51.68755277,   -5.37974271,  -35.44007616,  -32.55523965,\n",
       "        -24.27032856,  -77.50537844,  -61.04703329,   14.97642224,\n",
       "        -48.71473882,  -58.97594094,   -8.80520161,  -90.86161242,\n",
       "        -18.02289773,  -86.36008061,  -44.67928736,  -47.60578365,\n",
       "        -60.06026582,  -29.14836925,  -60.0771773 ,  -50.01874548,\n",
       "        -18.03331616,  -41.90853455,  -21.01223283,  -15.12423953,\n",
       "         -5.46444626,  -34.1802629 ,  -17.15124886,  -77.62560864,\n",
       "        -27.7002993 ,  -52.13962832,    6.27637008,  -47.39198273,\n",
       "         13.45365159,  -35.13356413,   -6.2769848 ,  -89.0066173 ,\n",
       "        -33.73273638,  -38.80730365,    7.19075635,  -27.56830604,\n",
       "        -14.4054511 ,  -10.94234709,    4.12219545,  -28.84252509,\n",
       "         -7.16898646,  -28.96212576,  -28.77847583,  -58.61922826,\n",
       "        -35.4015508 ,  -43.90011884,   18.93976036,  -18.89956515,\n",
       "        -13.24994123,  -67.33335887,  -16.56932556,  -82.40526032,\n",
       "        -14.20134049,  -13.86836459,  -31.84741988,  -59.9850353 ,\n",
       "        -21.04411813,  -26.21927652,    2.54348853,  -81.62691784,\n",
       "        -10.30394901,  -47.49944732,  -47.70975992,   -9.41794777,\n",
       "        -72.60120603,  -56.77436538,  -24.37508459,    9.36289695,\n",
       "        -21.31280847,  -63.20157179,  -48.7086092 ,  -17.81053687,\n",
       "        -25.89465761,    8.7623334 ,  -55.25301897,  -63.05450899,\n",
       "        -45.51522303,  -32.3482667 ,  -13.25761942,  -66.55650018,\n",
       "        -21.48746461,  -27.54782752,  -18.19607411, -112.25789792,\n",
       "        -36.531866  ,  -29.32174854,  -18.88817227,  -32.68129648,\n",
       "        -43.37558593,  -45.70831217,  -26.32007148,  -45.53996523,\n",
       "         -5.2958003 ,    6.74785466,  -47.88221779,  -27.71552892,\n",
       "         -9.75996515,  -12.81771701,   -8.71616494,  -56.74373545,\n",
       "        -18.3251068 ,  -26.66684137,   -5.84600477,   19.32481897,\n",
       "         14.88172253,  -47.33291082,  -16.32458553,   13.79686873,\n",
       "          7.39270002,  -14.16337442,  -13.53294406,  -90.17171696,\n",
       "         22.77607614,  -68.96938436,  -10.42734975,  -39.47641331,\n",
       "        -42.89601109,  -35.94555559,  -14.36805297,  -48.07406058,\n",
       "         -6.48324068,  -50.47708912,  -10.48552199,  -40.72403918,\n",
       "        -73.7564977 ,   16.8737678 ,   -9.51810488,  -30.66899121,\n",
       "        -49.54334682,  -36.70531848,  -15.95260512,  -23.0033806 ,\n",
       "        -42.71593385,  -55.56839779,  -18.17219316,  -49.84451089,\n",
       "        -20.0757954 ,  -56.51857417,  -16.25779588,  -24.15319503,\n",
       "        -10.0568093 ,  -64.21651845,  -75.8094797 ,   13.15182687,\n",
       "          8.37887406,  -49.87129165,  -87.50679658,  -33.8789238 ,\n",
       "        -78.37198766,  -49.53883858,  -21.31662283,  -61.70912742,\n",
       "        -25.45333506,  -15.21511893,   -5.86884569,   14.46767546,\n",
       "        -38.17073675,  -66.99730329,   -5.60050302,  -29.27645054,\n",
       "        -11.68010767,  -56.31101261,  -47.99430653,   20.5103223 ,\n",
       "        -28.13790514,  -32.10104113,   11.38532294,  -63.39171065,\n",
       "        -21.02958961,  -17.19902618,  -40.98460925,    6.37754309,\n",
       "        -41.51857954,  -40.62050153,  -39.34371955,  -19.62925918,\n",
       "        -36.70713022,  -43.7407689 ,  -38.01250283,    9.04193869,\n",
       "        -20.27132867,  -15.72141832,  -36.45464636,  -27.66946282,\n",
       "        -43.05657825,   -5.94758963,   -9.07222276,  -25.37866957,\n",
       "        -81.26026326,  -38.2136487 ,  -49.14907003,  -27.49884063,\n",
       "        -28.21486165,  -20.9874193 ,  -15.82466951,  -22.85250668,\n",
       "        -33.72425796,  -41.17962336,   -3.37210725,  -80.93744955,\n",
       "        -33.32336844,  -53.48712449,  -29.86915809,  -80.94413851,\n",
       "         22.35874334,  -21.31511108,  -39.06197705,  -29.114283  ,\n",
       "        -57.41647693,   13.69757211,  -56.70604763,  -61.04801745,\n",
       "        -45.79108879,   -1.96541207,  -48.50691542,  -13.93124772,\n",
       "         -5.48313278,   -7.24921787,  -10.61165969,  -34.52284365,\n",
       "        -31.46768489,  -34.93824989,  -14.14670646,  -25.96625337,\n",
       "         -9.77659837,  -16.86487551,  -33.51823193,  -39.7202455 ,\n",
       "        -53.15965778,  -19.10347749,  -16.53932427,   -4.64235669,\n",
       "        -62.94687203,  -29.33800447,   26.69079413,  -76.30209369,\n",
       "        -32.51901955,  -37.48785299,  -22.73339793,  -54.57183418,\n",
       "        -27.33314473,  -36.22923551,  -19.71250368,  -19.21463047,\n",
       "        -22.91379683,  -31.90832646,  -51.0268893 ,  -60.424921  ,\n",
       "        -22.16479191,  -30.07483912,   26.21108622,  -16.58912906,\n",
       "        -56.8500576 ,  -22.20016321,  -92.28958867,  -20.74163461,\n",
       "        -29.9802582 ,  -38.62145781,  -32.56861188,  -18.72527702,\n",
       "         -9.54506474,  -75.47598058,   -9.21019617,  -37.22369177,\n",
       "         37.46172711,    5.7069051 ,   -4.27561169,    4.67902296,\n",
       "        -18.25643027,    2.45359725,  -18.07407819,  -32.20342597,\n",
       "        -12.5490166 ,  -21.11212603,   -7.56679956,  -85.38681864,\n",
       "        -34.42241014,  -42.24162317,  -24.959447  ,   -2.10759222,\n",
       "        -45.26454407,  -29.45707851,  -48.49369592,  -11.07981395])"
      ]
     },
     "execution_count": 54,
     "metadata": {},
     "output_type": "execute_result"
    }
   ],
   "source": [
    "y_scores"
   ]
  },
  {
   "cell_type": "code",
   "execution_count": 58,
   "metadata": {},
   "outputs": [],
   "source": [
    "precisions,recalls,thresholds= precision_recall_curve(y_train_9,y_scores)"
   ]
  },
  {
   "cell_type": "code",
   "execution_count": 68,
   "metadata": {},
   "outputs": [
    {
     "data": {
      "text/plain": [
       "array([0.11586453, 0.11428571, 0.11449016, 0.11469534, 0.11490126,\n",
       "       0.11510791, 0.11531532, 0.11552347, 0.11573237, 0.11594203,\n",
       "       0.11615245, 0.11636364, 0.11657559, 0.11678832, 0.11700183,\n",
       "       0.11721612, 0.11743119, 0.11764706, 0.11786372, 0.11808118,\n",
       "       0.11829945, 0.11851852, 0.1187384 , 0.11895911, 0.11918063,\n",
       "       0.11940299, 0.11962617, 0.11985019, 0.12007505, 0.12030075,\n",
       "       0.12052731, 0.12075472, 0.12098299, 0.12121212, 0.12144213,\n",
       "       0.121673  , 0.12190476, 0.1221374 , 0.12237094, 0.12260536,\n",
       "       0.12284069, 0.12307692, 0.12331407, 0.12355212, 0.1237911 ,\n",
       "       0.12403101, 0.12427184, 0.12451362, 0.12475634, 0.125     ,\n",
       "       0.12524462, 0.1254902 , 0.12573674, 0.12598425, 0.12623274,\n",
       "       0.12648221, 0.12673267, 0.12698413, 0.12723658, 0.12749004,\n",
       "       0.12774451, 0.128     , 0.12825651, 0.12851406, 0.12877264,\n",
       "       0.12903226, 0.12929293, 0.12955466, 0.12981744, 0.1300813 ,\n",
       "       0.13034623, 0.13061224, 0.13087935, 0.13114754, 0.13141684,\n",
       "       0.13168724, 0.13195876, 0.1322314 , 0.13250518, 0.13278008,\n",
       "       0.13305613, 0.13333333, 0.13361169, 0.13389121, 0.13417191,\n",
       "       0.13445378, 0.13473684, 0.1350211 , 0.13530655, 0.13559322,\n",
       "       0.1358811 , 0.13617021, 0.13646055, 0.13675214, 0.13704497,\n",
       "       0.13733906, 0.13763441, 0.13793103, 0.13822894, 0.13852814,\n",
       "       0.13882863, 0.13913043, 0.13943355, 0.13973799, 0.14004376,\n",
       "       0.14035088, 0.14065934, 0.14096916, 0.14128035, 0.14159292,\n",
       "       0.14190687, 0.14222222, 0.14253898, 0.14285714, 0.14317673,\n",
       "       0.14349776, 0.14382022, 0.14414414, 0.14446953, 0.14479638,\n",
       "       0.14512472, 0.14545455, 0.14578588, 0.14611872, 0.14645309,\n",
       "       0.14678899, 0.14712644, 0.14746544, 0.147806  , 0.14814815,\n",
       "       0.14849188, 0.14883721, 0.14918415, 0.14953271, 0.1498829 ,\n",
       "       0.15023474, 0.15058824, 0.1509434 , 0.15130024, 0.15165877,\n",
       "       0.152019  , 0.15238095, 0.15274463, 0.15311005, 0.15347722,\n",
       "       0.15384615, 0.15421687, 0.15458937, 0.15496368, 0.15533981,\n",
       "       0.15571776, 0.15609756, 0.15647922, 0.15686275, 0.15724816,\n",
       "       0.15763547, 0.15802469, 0.15841584, 0.15880893, 0.15920398,\n",
       "       0.159601  , 0.16      , 0.160401  , 0.16080402, 0.16120907,\n",
       "       0.16161616, 0.16202532, 0.16243655, 0.16284987, 0.16326531,\n",
       "       0.16368286, 0.16410256, 0.16452442, 0.16494845, 0.16537468,\n",
       "       0.16580311, 0.16623377, 0.16666667, 0.16710183, 0.16753927,\n",
       "       0.167979  , 0.16842105, 0.16886544, 0.16931217, 0.16976127,\n",
       "       0.17021277, 0.17066667, 0.17112299, 0.17158177, 0.17204301,\n",
       "       0.17250674, 0.17297297, 0.17344173, 0.17391304, 0.17438692,\n",
       "       0.17486339, 0.17534247, 0.17582418, 0.17630854, 0.17679558,\n",
       "       0.17728532, 0.17777778, 0.17827298, 0.17877095, 0.17927171,\n",
       "       0.17977528, 0.18028169, 0.18079096, 0.18130312, 0.18181818,\n",
       "       0.18233618, 0.18285714, 0.18338109, 0.18390805, 0.18443804,\n",
       "       0.1849711 , 0.18550725, 0.18604651, 0.18658892, 0.1871345 ,\n",
       "       0.18768328, 0.18823529, 0.18879056, 0.18934911, 0.18694362,\n",
       "       0.1875    , 0.1880597 , 0.18862275, 0.18918919, 0.18975904,\n",
       "       0.19033233, 0.19090909, 0.19148936, 0.19207317, 0.19266055,\n",
       "       0.19325153, 0.19384615, 0.19444444, 0.19504644, 0.19565217,\n",
       "       0.19626168, 0.196875  , 0.19749216, 0.19811321, 0.19873817,\n",
       "       0.19936709, 0.2       , 0.20063694, 0.20127796, 0.20192308,\n",
       "       0.20257235, 0.20322581, 0.2038835 , 0.20454545, 0.20521173,\n",
       "       0.20588235, 0.20655738, 0.20723684, 0.20792079, 0.20860927,\n",
       "       0.20930233, 0.21      , 0.21070234, 0.2114094 , 0.21212121,\n",
       "       0.21283784, 0.21355932, 0.21428571, 0.21501706, 0.21575342,\n",
       "       0.21649485, 0.21724138, 0.21799308, 0.21875   , 0.2195122 ,\n",
       "       0.22027972, 0.22105263, 0.22183099, 0.22261484, 0.22340426,\n",
       "       0.22419929, 0.225     , 0.22580645, 0.22661871, 0.22743682,\n",
       "       0.22826087, 0.22909091, 0.22992701, 0.23076923, 0.23161765,\n",
       "       0.23247232, 0.23333333, 0.23420074, 0.23507463, 0.23595506,\n",
       "       0.23684211, 0.23773585, 0.23863636, 0.23954373, 0.24045802,\n",
       "       0.24137931, 0.24230769, 0.24324324, 0.24418605, 0.24513619,\n",
       "       0.24609375, 0.24705882, 0.2480315 , 0.24901186, 0.25      ,\n",
       "       0.25099602, 0.252     , 0.25301205, 0.25403226, 0.25506073,\n",
       "       0.25609756, 0.25714286, 0.25819672, 0.25925926, 0.26033058,\n",
       "       0.26141079, 0.2625    , 0.26359833, 0.26470588, 0.26582278,\n",
       "       0.26694915, 0.26808511, 0.26923077, 0.27038627, 0.27155172,\n",
       "       0.27272727, 0.27391304, 0.27510917, 0.27631579, 0.27753304,\n",
       "       0.27876106, 0.28      , 0.28125   , 0.28251121, 0.28378378,\n",
       "       0.28506787, 0.28636364, 0.28767123, 0.28899083, 0.29032258,\n",
       "       0.28703704, 0.28837209, 0.28971963, 0.28638498, 0.28773585,\n",
       "       0.28909953, 0.29047619, 0.29186603, 0.29326923, 0.29468599,\n",
       "       0.2961165 , 0.29756098, 0.29901961, 0.30049261, 0.3019802 ,\n",
       "       0.30348259, 0.305     , 0.30653266, 0.30808081, 0.30964467,\n",
       "       0.31122449, 0.31282051, 0.31443299, 0.31606218, 0.31770833,\n",
       "       0.31937173, 0.32105263, 0.32275132, 0.32446809, 0.32620321,\n",
       "       0.32795699, 0.32972973, 0.33152174, 0.33333333, 0.33516484,\n",
       "       0.33701657, 0.33888889, 0.34078212, 0.34269663, 0.34463277,\n",
       "       0.34659091, 0.34857143, 0.35057471, 0.35260116, 0.35465116,\n",
       "       0.35672515, 0.35882353, 0.36094675, 0.36309524, 0.36526946,\n",
       "       0.36144578, 0.36363636, 0.36585366, 0.36809816, 0.37037037,\n",
       "       0.37267081, 0.375     , 0.37735849, 0.37974684, 0.38216561,\n",
       "       0.38461538, 0.38709677, 0.38961039, 0.39215686, 0.39473684,\n",
       "       0.39735099, 0.39333333, 0.39597315, 0.39864865, 0.40136054,\n",
       "       0.40410959, 0.40689655, 0.40972222, 0.41258741, 0.41549296,\n",
       "       0.41843972, 0.42142857, 0.42446043, 0.42753623, 0.43065693,\n",
       "       0.42647059, 0.42962963, 0.43283582, 0.43609023, 0.43939394,\n",
       "       0.44274809, 0.43846154, 0.44186047, 0.4453125 , 0.4488189 ,\n",
       "       0.45238095, 0.456     , 0.45967742, 0.46341463, 0.46721311,\n",
       "       0.46280992, 0.46666667, 0.47058824, 0.47457627, 0.47863248,\n",
       "       0.48275862, 0.48695652, 0.49122807, 0.49557522, 0.5       ,\n",
       "       0.5045045 , 0.50909091, 0.50458716, 0.50925926, 0.51401869,\n",
       "       0.51886792, 0.52380952, 0.52884615, 0.53398058, 0.53921569,\n",
       "       0.54455446, 0.55      , 0.54545455, 0.55102041, 0.55670103,\n",
       "       0.5625    , 0.56842105, 0.56382979, 0.56989247, 0.57608696,\n",
       "       0.58241758, 0.57777778, 0.58426966, 0.57954545, 0.57471264,\n",
       "       0.58139535, 0.58823529, 0.5952381 , 0.60240964, 0.6097561 ,\n",
       "       0.61728395, 0.6125    , 0.62025316, 0.62820513, 0.63636364,\n",
       "       0.64473684, 0.65333333, 0.66216216, 0.67123288, 0.66666667,\n",
       "       0.67605634, 0.68571429, 0.69565217, 0.70588235, 0.70149254,\n",
       "       0.6969697 , 0.69230769, 0.6875    , 0.6984127 , 0.70967742,\n",
       "       0.72131148, 0.73333333, 0.74576271, 0.75862069, 0.77192982,\n",
       "       0.76785714, 0.76363636, 0.77777778, 0.77358491, 0.76923077,\n",
       "       0.78431373, 0.8       , 0.79591837, 0.79166667, 0.80851064,\n",
       "       0.82608696, 0.82222222, 0.81818182, 0.8372093 , 0.83333333,\n",
       "       0.85365854, 0.85      , 0.84615385, 0.84210526, 0.83783784,\n",
       "       0.83333333, 0.82857143, 0.82352941, 0.84848485, 0.84375   ,\n",
       "       0.83870968, 0.83333333, 0.82758621, 0.82142857, 0.81481481,\n",
       "       0.80769231, 0.84      , 0.83333333, 0.86956522, 0.86363636,\n",
       "       0.85714286, 0.85      , 0.84210526, 0.88888889, 0.88235294,\n",
       "       0.9375    , 0.93333333, 0.92857143, 0.92307692, 0.91666667,\n",
       "       0.90909091, 0.9       , 0.88888889, 0.875     , 1.        ,\n",
       "       1.        , 1.        , 1.        , 1.        , 1.        ,\n",
       "       1.        , 1.        ])"
      ]
     },
     "execution_count": 68,
     "metadata": {},
     "output_type": "execute_result"
    }
   ],
   "source": [
    "precisions"
   ]
  },
  {
   "cell_type": "code",
   "execution_count": 69,
   "metadata": {},
   "outputs": [
    {
     "data": {
      "text/plain": [
       "array([-72.82470076, -72.62827675, -72.60120603, -72.5932003 ,\n",
       "       -72.39426809, -70.99242385, -69.40070919, -69.38754596,\n",
       "       -68.96938436, -68.65058038, -67.71664644, -67.33335887,\n",
       "       -66.99730329, -66.55650018, -66.47991822, -66.43335464,\n",
       "       -65.91612448, -65.60013214, -65.26541389, -65.15779723,\n",
       "       -65.07491133, -64.76413743, -64.21651845, -63.52967471,\n",
       "       -63.39171065, -63.20157179, -63.05450899, -62.94687203,\n",
       "       -62.49976859, -62.41040064, -62.20940246, -61.70912742,\n",
       "       -61.48759827, -61.04801745, -61.04703329, -60.424921  ,\n",
       "       -60.0771773 , -60.06026582, -59.9850353 , -59.76319197,\n",
       "       -59.60098332, -59.54553054, -59.49169923, -58.97594094,\n",
       "       -58.61922826, -58.4918868 , -57.7611789 , -57.49938479,\n",
       "       -57.41647693, -56.8500576 , -56.77436538, -56.74373545,\n",
       "       -56.70604763, -56.57336655, -56.51857417, -56.31101261,\n",
       "       -55.56839779, -55.54611015, -55.47520836, -55.25301897,\n",
       "       -55.08524612, -54.58947193, -54.57183418, -54.39899251,\n",
       "       -54.24003815, -54.10435328, -54.09841926, -53.84513117,\n",
       "       -53.59621676, -53.48712449, -53.38787995, -53.37194504,\n",
       "       -53.27757537, -53.15965778, -53.03829719, -52.13962832,\n",
       "       -52.07576407, -51.96955548, -51.68755277, -51.0268893 ,\n",
       "       -50.47708912, -50.33662677, -50.24310573, -50.01874548,\n",
       "       -50.01521024, -49.87129165, -49.84451089, -49.54334682,\n",
       "       -49.53883858, -49.19414048, -49.14907003, -49.04839306,\n",
       "       -48.71473882, -48.7086092 , -48.68153385, -48.50691542,\n",
       "       -48.49369592, -48.10001179, -48.07406058, -47.99430653,\n",
       "       -47.9103344 , -47.88221779, -47.81192152, -47.70975992,\n",
       "       -47.67153116, -47.60578365, -47.49944732, -47.39198273,\n",
       "       -47.33291082, -47.32477623, -47.15027444, -47.10930926,\n",
       "       -47.02892997, -46.84631507, -46.71727276, -46.55778468,\n",
       "       -46.46916585, -45.79108879, -45.71823424, -45.70831217,\n",
       "       -45.53996523, -45.51522303, -45.26454407, -44.89935823,\n",
       "       -44.70516097, -44.67928736, -44.53301685, -44.18608269,\n",
       "       -43.90011884, -43.7407689 , -43.73634475, -43.55037305,\n",
       "       -43.37558593, -43.05657825, -42.89601109, -42.73542321,\n",
       "       -42.71593385, -42.57271829, -42.24162317, -42.00617947,\n",
       "       -41.90853455, -41.77004731, -41.70014189, -41.62713927,\n",
       "       -41.58739332, -41.57171653, -41.51857954, -41.36324516,\n",
       "       -41.17962336, -41.01627849, -40.98460925, -40.72403918,\n",
       "       -40.62050153, -40.5034164 , -40.41624034, -39.8355743 ,\n",
       "       -39.7202455 , -39.47641331, -39.34371955, -39.24750434,\n",
       "       -39.10608566, -39.10176164, -39.06197705, -39.0176567 ,\n",
       "       -38.99780553, -38.8654161 , -38.80730365, -38.73868141,\n",
       "       -38.62145781, -38.57543644, -38.53175284, -38.45113699,\n",
       "       -38.3920655 , -38.2136487 , -38.17073675, -38.01250283,\n",
       "       -37.59938589, -37.48785299, -37.22369177, -37.2152701 ,\n",
       "       -36.70713022, -36.70531848, -36.5477477 , -36.531866  ,\n",
       "       -36.45464636, -36.22923551, -36.13713123, -36.06547221,\n",
       "       -35.94555559, -35.46589377, -35.44007616, -35.4015508 ,\n",
       "       -35.16662919, -35.15650292, -35.13356413, -34.93824989,\n",
       "       -34.82698409, -34.70607432, -34.68766345, -34.5898174 ,\n",
       "       -34.52284365, -34.5184749 , -34.42241014, -34.30927748,\n",
       "       -34.2782407 , -34.1802629 , -34.12098154, -33.8789238 ,\n",
       "       -33.73273638, -33.72425796, -33.51823193, -33.47079785,\n",
       "       -33.32336844, -32.99773546, -32.84491902, -32.68129648,\n",
       "       -32.67807145, -32.62100005, -32.56861188, -32.55523965,\n",
       "       -32.53298297, -32.51901955, -32.48175893, -32.47249747,\n",
       "       -32.46862387, -32.3482667 , -32.34205102, -32.31053742,\n",
       "       -32.27058363, -32.20342597, -32.17867558, -32.17657627,\n",
       "       -32.10104113, -31.90832646, -31.84741988, -31.67241309,\n",
       "       -31.46768489, -31.29208091, -31.25365009, -31.1809661 ,\n",
       "       -30.95800554, -30.66899121, -30.55995951, -30.49041445,\n",
       "       -30.39168791, -30.26282507, -30.26117748, -30.24568872,\n",
       "       -30.13040867, -30.07483912, -29.9802582 , -29.96994087,\n",
       "       -29.94585222, -29.89665616, -29.86915809, -29.82591377,\n",
       "       -29.58222362, -29.57754789, -29.51095435, -29.45707851,\n",
       "       -29.3862346 , -29.33800447, -29.32174854, -29.27645054,\n",
       "       -29.19939268, -29.14836925, -29.114283  , -28.96212576,\n",
       "       -28.84252509, -28.77847583, -28.63791537, -28.56367676,\n",
       "       -28.50810173, -28.21486165, -28.20514349, -28.13790514,\n",
       "       -27.79213018, -27.71552892, -27.7002993 , -27.66946282,\n",
       "       -27.56830604, -27.54782752, -27.52517995, -27.49884063,\n",
       "       -27.40209082, -27.33314473, -26.74730226, -26.67897785,\n",
       "       -26.66684137, -26.61252719, -26.56986209, -26.33666887,\n",
       "       -26.32007148, -26.21927652, -26.14946215, -26.10776768,\n",
       "       -25.98197119, -25.96625337, -25.9630954 , -25.89465761,\n",
       "       -25.77912635, -25.73433209, -25.70861331, -25.64930006,\n",
       "       -25.45333506, -25.44633597, -25.37866957, -25.25738149,\n",
       "       -25.17145913, -24.959447  , -24.95218725, -24.93238895,\n",
       "       -24.91850234, -24.7858581 , -24.37508459, -24.35784333,\n",
       "       -24.2792578 , -24.27032856, -24.15319503, -24.00527014,\n",
       "       -23.41903985, -23.33929729, -23.24249195, -23.21683217,\n",
       "       -23.0033806 , -22.98050509, -22.95882548, -22.93153988,\n",
       "       -22.91379683, -22.85250668, -22.73339793, -22.5548438 ,\n",
       "       -22.41857972, -22.20016321, -22.16479191, -21.75427523,\n",
       "       -21.65642874, -21.48863133, -21.48746461, -21.44281283,\n",
       "       -21.31662283, -21.31511108, -21.31280847, -21.1825674 ,\n",
       "       -21.11212603, -21.04411813, -21.02958961, -21.01223283,\n",
       "       -20.98743216, -20.9874193 , -20.85641333, -20.74163461,\n",
       "       -20.67010519, -20.62396256, -20.54399367, -20.27132867,\n",
       "       -20.07854893, -20.0757954 , -19.81589127, -19.71250368,\n",
       "       -19.62925918, -19.60987264, -19.21463047, -19.12585687,\n",
       "       -19.10347749, -18.89956515, -18.88817227, -18.86778384,\n",
       "       -18.72527702, -18.3251068 , -18.25643027, -18.19607411,\n",
       "       -18.17219316, -18.08413569, -18.07407819, -18.03331616,\n",
       "       -18.02289773, -17.97249604, -17.81053687, -17.74054792,\n",
       "       -17.7041312 , -17.58013726, -17.47707701, -17.19902618,\n",
       "       -17.15124886, -16.92716612, -16.88121273, -16.86487551,\n",
       "       -16.6437488 , -16.58912906, -16.56932556, -16.53932427,\n",
       "       -16.32458553, -16.25779588, -16.17575424, -15.95260512,\n",
       "       -15.82466951, -15.72141832, -15.61854653, -15.5291011 ,\n",
       "       -15.32818626, -15.28759513, -15.21511893, -15.15347952,\n",
       "       -15.12423953, -15.09054555, -15.07952097, -14.8065732 ,\n",
       "       -14.4054511 , -14.38919432, -14.36805297, -14.24813483,\n",
       "       -14.20134049, -14.16337442, -14.14670646, -14.14379519,\n",
       "       -13.93124772, -13.90336324, -13.86836459, -13.84362084,\n",
       "       -13.7587827 , -13.74331461, -13.53294406, -13.25761942,\n",
       "       -13.24994123, -12.81771701, -12.5490166 , -11.68010767,\n",
       "       -11.60467583, -11.46826705, -11.38108181, -11.07981395,\n",
       "       -10.94234709, -10.64372227, -10.61165969, -10.5398715 ,\n",
       "       -10.48552199, -10.42734975, -10.30394901, -10.11272492,\n",
       "       -10.09968742, -10.0568093 ,  -9.77659837,  -9.75996515,\n",
       "        -9.70818482,  -9.54506474,  -9.51810488,  -9.41794777,\n",
       "        -9.39718385,  -9.21019617,  -9.07222276,  -8.80520161,\n",
       "        -8.78296894,  -8.71616494,  -8.61753412,  -8.32148098,\n",
       "        -8.15891519,  -7.98445891,  -7.98322063,  -7.98150549,\n",
       "        -7.90418825,  -7.89034965,  -7.56679956,  -7.31601656,\n",
       "        -7.24921787,  -7.16898646,  -6.99199049,  -6.64669629,\n",
       "        -6.48324068,  -6.43502411,  -6.36622973,  -6.33943864,\n",
       "        -6.2769848 ,  -5.94758963,  -5.86884569,  -5.84600477,\n",
       "        -5.60050302,  -5.48313278,  -5.46444626,  -5.39733829,\n",
       "        -5.37974271,  -5.2958003 ,  -5.25359228,  -4.7103536 ,\n",
       "        -4.64235669,  -4.54752204,  -4.27561169,  -4.11112187,\n",
       "        -3.77889768,  -3.37210725,  -2.93350794,  -2.47460429,\n",
       "        -2.43086646,  -2.10759222,  -1.96541207,  -1.77031557,\n",
       "        -1.74005754,  -1.5605532 ,  -1.21248352,  -1.18683554,\n",
       "        -1.11932761,  -0.58436083,   0.3682499 ,   0.91414044,\n",
       "         1.56567496,   1.95877578,   2.45359725,   2.54348853,\n",
       "         3.71992969,   4.12219545,   4.39584532,   4.67902296,\n",
       "         5.64088157,   5.7069051 ,   6.27637008,   6.31734   ,\n",
       "         6.37754309,   6.5516159 ,   6.74785466,   6.78461953,\n",
       "         7.19075635,   7.25048271,   7.39270002,   7.97716836,\n",
       "         8.37887406,   8.53136978,   8.7623334 ,   9.04193869,\n",
       "         9.36289695,   9.69308335,  10.09557768,  10.50020129,\n",
       "        10.74432654,  11.16806316,  11.38532294,  11.673796  ,\n",
       "        13.04846786,  13.15182687,  13.45365159,  13.69757211,\n",
       "        13.79686873,  14.46767546,  14.88172253,  14.97642224,\n",
       "        15.65256918,  16.8737678 ,  17.3792025 ,  18.60184507,\n",
       "        18.93976036,  19.32481897,  19.35551968,  19.99438966,\n",
       "        20.1015599 ,  20.5103223 ,  21.41669984,  22.35874334,\n",
       "        22.77607614,  24.83523026,  26.21108622,  26.69079413,\n",
       "        37.46172711])"
      ]
     },
     "execution_count": 69,
     "metadata": {},
     "output_type": "execute_result"
    }
   ],
   "source": [
    "thresholds"
   ]
  },
  {
   "cell_type": "code",
   "execution_count": 70,
   "metadata": {},
   "outputs": [
    {
     "data": {
      "text/plain": [
       "array([1.        , 0.98461538, 0.98461538, 0.98461538, 0.98461538,\n",
       "       0.98461538, 0.98461538, 0.98461538, 0.98461538, 0.98461538,\n",
       "       0.98461538, 0.98461538, 0.98461538, 0.98461538, 0.98461538,\n",
       "       0.98461538, 0.98461538, 0.98461538, 0.98461538, 0.98461538,\n",
       "       0.98461538, 0.98461538, 0.98461538, 0.98461538, 0.98461538,\n",
       "       0.98461538, 0.98461538, 0.98461538, 0.98461538, 0.98461538,\n",
       "       0.98461538, 0.98461538, 0.98461538, 0.98461538, 0.98461538,\n",
       "       0.98461538, 0.98461538, 0.98461538, 0.98461538, 0.98461538,\n",
       "       0.98461538, 0.98461538, 0.98461538, 0.98461538, 0.98461538,\n",
       "       0.98461538, 0.98461538, 0.98461538, 0.98461538, 0.98461538,\n",
       "       0.98461538, 0.98461538, 0.98461538, 0.98461538, 0.98461538,\n",
       "       0.98461538, 0.98461538, 0.98461538, 0.98461538, 0.98461538,\n",
       "       0.98461538, 0.98461538, 0.98461538, 0.98461538, 0.98461538,\n",
       "       0.98461538, 0.98461538, 0.98461538, 0.98461538, 0.98461538,\n",
       "       0.98461538, 0.98461538, 0.98461538, 0.98461538, 0.98461538,\n",
       "       0.98461538, 0.98461538, 0.98461538, 0.98461538, 0.98461538,\n",
       "       0.98461538, 0.98461538, 0.98461538, 0.98461538, 0.98461538,\n",
       "       0.98461538, 0.98461538, 0.98461538, 0.98461538, 0.98461538,\n",
       "       0.98461538, 0.98461538, 0.98461538, 0.98461538, 0.98461538,\n",
       "       0.98461538, 0.98461538, 0.98461538, 0.98461538, 0.98461538,\n",
       "       0.98461538, 0.98461538, 0.98461538, 0.98461538, 0.98461538,\n",
       "       0.98461538, 0.98461538, 0.98461538, 0.98461538, 0.98461538,\n",
       "       0.98461538, 0.98461538, 0.98461538, 0.98461538, 0.98461538,\n",
       "       0.98461538, 0.98461538, 0.98461538, 0.98461538, 0.98461538,\n",
       "       0.98461538, 0.98461538, 0.98461538, 0.98461538, 0.98461538,\n",
       "       0.98461538, 0.98461538, 0.98461538, 0.98461538, 0.98461538,\n",
       "       0.98461538, 0.98461538, 0.98461538, 0.98461538, 0.98461538,\n",
       "       0.98461538, 0.98461538, 0.98461538, 0.98461538, 0.98461538,\n",
       "       0.98461538, 0.98461538, 0.98461538, 0.98461538, 0.98461538,\n",
       "       0.98461538, 0.98461538, 0.98461538, 0.98461538, 0.98461538,\n",
       "       0.98461538, 0.98461538, 0.98461538, 0.98461538, 0.98461538,\n",
       "       0.98461538, 0.98461538, 0.98461538, 0.98461538, 0.98461538,\n",
       "       0.98461538, 0.98461538, 0.98461538, 0.98461538, 0.98461538,\n",
       "       0.98461538, 0.98461538, 0.98461538, 0.98461538, 0.98461538,\n",
       "       0.98461538, 0.98461538, 0.98461538, 0.98461538, 0.98461538,\n",
       "       0.98461538, 0.98461538, 0.98461538, 0.98461538, 0.98461538,\n",
       "       0.98461538, 0.98461538, 0.98461538, 0.98461538, 0.98461538,\n",
       "       0.98461538, 0.98461538, 0.98461538, 0.98461538, 0.98461538,\n",
       "       0.98461538, 0.98461538, 0.98461538, 0.98461538, 0.98461538,\n",
       "       0.98461538, 0.98461538, 0.98461538, 0.98461538, 0.98461538,\n",
       "       0.98461538, 0.98461538, 0.98461538, 0.98461538, 0.98461538,\n",
       "       0.98461538, 0.98461538, 0.98461538, 0.98461538, 0.98461538,\n",
       "       0.98461538, 0.98461538, 0.98461538, 0.98461538, 0.98461538,\n",
       "       0.98461538, 0.98461538, 0.98461538, 0.98461538, 0.98461538,\n",
       "       0.98461538, 0.98461538, 0.98461538, 0.98461538, 0.96923077,\n",
       "       0.96923077, 0.96923077, 0.96923077, 0.96923077, 0.96923077,\n",
       "       0.96923077, 0.96923077, 0.96923077, 0.96923077, 0.96923077,\n",
       "       0.96923077, 0.96923077, 0.96923077, 0.96923077, 0.96923077,\n",
       "       0.96923077, 0.96923077, 0.96923077, 0.96923077, 0.96923077,\n",
       "       0.96923077, 0.96923077, 0.96923077, 0.96923077, 0.96923077,\n",
       "       0.96923077, 0.96923077, 0.96923077, 0.96923077, 0.96923077,\n",
       "       0.96923077, 0.96923077, 0.96923077, 0.96923077, 0.96923077,\n",
       "       0.96923077, 0.96923077, 0.96923077, 0.96923077, 0.96923077,\n",
       "       0.96923077, 0.96923077, 0.96923077, 0.96923077, 0.96923077,\n",
       "       0.96923077, 0.96923077, 0.96923077, 0.96923077, 0.96923077,\n",
       "       0.96923077, 0.96923077, 0.96923077, 0.96923077, 0.96923077,\n",
       "       0.96923077, 0.96923077, 0.96923077, 0.96923077, 0.96923077,\n",
       "       0.96923077, 0.96923077, 0.96923077, 0.96923077, 0.96923077,\n",
       "       0.96923077, 0.96923077, 0.96923077, 0.96923077, 0.96923077,\n",
       "       0.96923077, 0.96923077, 0.96923077, 0.96923077, 0.96923077,\n",
       "       0.96923077, 0.96923077, 0.96923077, 0.96923077, 0.96923077,\n",
       "       0.96923077, 0.96923077, 0.96923077, 0.96923077, 0.96923077,\n",
       "       0.96923077, 0.96923077, 0.96923077, 0.96923077, 0.96923077,\n",
       "       0.96923077, 0.96923077, 0.96923077, 0.96923077, 0.96923077,\n",
       "       0.96923077, 0.96923077, 0.96923077, 0.96923077, 0.96923077,\n",
       "       0.96923077, 0.96923077, 0.96923077, 0.96923077, 0.96923077,\n",
       "       0.96923077, 0.96923077, 0.96923077, 0.96923077, 0.96923077,\n",
       "       0.96923077, 0.96923077, 0.96923077, 0.96923077, 0.96923077,\n",
       "       0.96923077, 0.96923077, 0.96923077, 0.96923077, 0.96923077,\n",
       "       0.95384615, 0.95384615, 0.95384615, 0.93846154, 0.93846154,\n",
       "       0.93846154, 0.93846154, 0.93846154, 0.93846154, 0.93846154,\n",
       "       0.93846154, 0.93846154, 0.93846154, 0.93846154, 0.93846154,\n",
       "       0.93846154, 0.93846154, 0.93846154, 0.93846154, 0.93846154,\n",
       "       0.93846154, 0.93846154, 0.93846154, 0.93846154, 0.93846154,\n",
       "       0.93846154, 0.93846154, 0.93846154, 0.93846154, 0.93846154,\n",
       "       0.93846154, 0.93846154, 0.93846154, 0.93846154, 0.93846154,\n",
       "       0.93846154, 0.93846154, 0.93846154, 0.93846154, 0.93846154,\n",
       "       0.93846154, 0.93846154, 0.93846154, 0.93846154, 0.93846154,\n",
       "       0.93846154, 0.93846154, 0.93846154, 0.93846154, 0.93846154,\n",
       "       0.92307692, 0.92307692, 0.92307692, 0.92307692, 0.92307692,\n",
       "       0.92307692, 0.92307692, 0.92307692, 0.92307692, 0.92307692,\n",
       "       0.92307692, 0.92307692, 0.92307692, 0.92307692, 0.92307692,\n",
       "       0.92307692, 0.90769231, 0.90769231, 0.90769231, 0.90769231,\n",
       "       0.90769231, 0.90769231, 0.90769231, 0.90769231, 0.90769231,\n",
       "       0.90769231, 0.90769231, 0.90769231, 0.90769231, 0.90769231,\n",
       "       0.89230769, 0.89230769, 0.89230769, 0.89230769, 0.89230769,\n",
       "       0.89230769, 0.87692308, 0.87692308, 0.87692308, 0.87692308,\n",
       "       0.87692308, 0.87692308, 0.87692308, 0.87692308, 0.87692308,\n",
       "       0.86153846, 0.86153846, 0.86153846, 0.86153846, 0.86153846,\n",
       "       0.86153846, 0.86153846, 0.86153846, 0.86153846, 0.86153846,\n",
       "       0.86153846, 0.86153846, 0.84615385, 0.84615385, 0.84615385,\n",
       "       0.84615385, 0.84615385, 0.84615385, 0.84615385, 0.84615385,\n",
       "       0.84615385, 0.84615385, 0.83076923, 0.83076923, 0.83076923,\n",
       "       0.83076923, 0.83076923, 0.81538462, 0.81538462, 0.81538462,\n",
       "       0.81538462, 0.8       , 0.8       , 0.78461538, 0.76923077,\n",
       "       0.76923077, 0.76923077, 0.76923077, 0.76923077, 0.76923077,\n",
       "       0.76923077, 0.75384615, 0.75384615, 0.75384615, 0.75384615,\n",
       "       0.75384615, 0.75384615, 0.75384615, 0.75384615, 0.73846154,\n",
       "       0.73846154, 0.73846154, 0.73846154, 0.73846154, 0.72307692,\n",
       "       0.70769231, 0.69230769, 0.67692308, 0.67692308, 0.67692308,\n",
       "       0.67692308, 0.67692308, 0.67692308, 0.67692308, 0.67692308,\n",
       "       0.66153846, 0.64615385, 0.64615385, 0.63076923, 0.61538462,\n",
       "       0.61538462, 0.61538462, 0.6       , 0.58461538, 0.58461538,\n",
       "       0.58461538, 0.56923077, 0.55384615, 0.55384615, 0.53846154,\n",
       "       0.53846154, 0.52307692, 0.50769231, 0.49230769, 0.47692308,\n",
       "       0.46153846, 0.44615385, 0.43076923, 0.43076923, 0.41538462,\n",
       "       0.4       , 0.38461538, 0.36923077, 0.35384615, 0.33846154,\n",
       "       0.32307692, 0.32307692, 0.30769231, 0.30769231, 0.29230769,\n",
       "       0.27692308, 0.26153846, 0.24615385, 0.24615385, 0.23076923,\n",
       "       0.23076923, 0.21538462, 0.2       , 0.18461538, 0.16923077,\n",
       "       0.15384615, 0.13846154, 0.12307692, 0.10769231, 0.10769231,\n",
       "       0.09230769, 0.07692308, 0.06153846, 0.04615385, 0.03076923,\n",
       "       0.01538462, 0.        ])"
      ]
     },
     "execution_count": 70,
     "metadata": {},
     "output_type": "execute_result"
    }
   ],
   "source": [
    "recalls"
   ]
  },
  {
   "cell_type": "code",
   "execution_count": 73,
   "metadata": {},
   "outputs": [
    {
     "data": {
      "image/png": "[encoded data removed]",
      "text/plain": [
       "<Figure size 432x288 with 1 Axes>"
      ]
     },
     "metadata": {
      "needs_background": "light"
     },
     "output_type": "display_data"
    }
   ],
   "source": [
    "plt.plot(thresholds,precisions[:-1],\"b--\",label=\"Precision\")\n",
    "plt.plot(thresholds,recalls[:-1],\"g-\",label=\"Recall\")\n",
    "plt.xlabel(\"Thresholds\")\n",
    "plt.legend(loc=\"upper left\")\n",
    "plt.ylim([0,1])\n",
    "plt.show()"
   ]
  },
  {
   "cell_type": "code",
   "execution_count": null,
   "metadata": {},
   "outputs": [],
   "source": []
  },
  {
   "cell_type": "code",
   "execution_count": null,
   "metadata": {},
   "outputs": [],
   "source": []
  }
 ],
 "metadata": {
  "kernelspec": {
   "display_name": "Python 3",
   "language": "python",
   "name": "python3"
  },
  "language_info": {
   "codemirror_mode": {
    "name": "ipython",
    "version": 3
   },
   "file_extension": ".py",
   "mimetype": "text/x-python",
   "name": "python",
   "nbconvert_exporter": "python",
   "pygments_lexer": "ipython3",
   "version": "3.8.3"
  }
 },
 "nbformat": 4,
 "nbformat_minor": 4
}
